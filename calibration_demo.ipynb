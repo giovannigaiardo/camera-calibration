{
  "cells": [
    {
      "cell_type": "markdown",
      "metadata": {
        "id": "gOBJgPwm-7Zd"
      },
      "source": [
        "# Demo of the developed camera calibration features"
      ]
    },
    {
      "cell_type": "code",
      "execution_count": null,
      "metadata": {
        "id": "nqtK4ByuIlnV"
      },
      "outputs": [],
      "source": [
        "import numpy as np\n",
        "import cv2 as cv\n",
        "import matplotlib.pyplot as plt"
      ]
    },
    {
      "cell_type": "code",
      "execution_count": null,
      "metadata": {
        "id": "XmqfWFHPJ0KD"
      },
      "outputs": [],
      "source": [
        "from scripts.utils import imshow, plot_world_point"
      ]
    },
    {
      "cell_type": "code",
      "execution_count": null,
      "metadata": {
        "colab": {
          "base_uri": "https://localhost:8080/",
          "height": 428
        },
        "id": "bhwqT3cBIrDj",
        "outputId": "74f44034-1c8f-42a5-da61-dc5a46676a0a"
      },
      "outputs": [],
      "source": [
        "maracana1 = cv.imread(\"maracana1.jpg\")\n",
        "imshow(maracana1, \"Original image\")"
      ]
    },
    {
      "cell_type": "markdown",
      "metadata": {
        "id": "3e2pL788J7tP"
      },
      "source": [
        "Now, let's choose a couple of correspondences between world points and image points."
      ]
    },
    {
      "cell_type": "code",
      "execution_count": null,
      "metadata": {
        "id": "otcg4r_pItN4"
      },
      "outputs": [],
      "source": [
        "# Homogeneous component\n",
        "s = 1\n",
        "\n",
        "# Define world points\n",
        "world_points = np.array([\n",
        "    [12.82,0,  0],\n",
        "    [23.82,0,  0],\n",
        "    [0,    0,  0],\n",
        "    [0,    0,  2.44],\n",
        "    [7.32, 0,  2.44],\n",
        "    [12.82,5.5,  0],\n",
        "    [-16.5,0,  0],\n",
        "    [7.32,0,  0],\n",
        "    [-5.5, 0, 0],\n",
        "    [-5.5, 5.5, 0],\n",
        "    [-16.5, 16.5, 0]\n",
        "])\n",
        "\n",
        "# Define image points\n",
        "img_points = np.array([\n",
        "    [183.6, 126.8],\n",
        "    [227.7, 104.9],\n",
        "    [124, 156.3],\n",
        "    [122, 125.3],\n",
        "    [158.4, 109.8],\n",
        "    [241.2, 130.6],\n",
        "    [30.4, 203.8],\n",
        "    [159.3, 138.4],\n",
        "    [94.9, 171.8],\n",
        "    [160.8, 175.2],\n",
        "    [249, 220.8]\n",
        "])"
      ]
    },
    {
      "cell_type": "code",
      "execution_count": null,
      "metadata": {
        "colab": {
          "base_uri": "https://localhost:8080/",
          "height": 428
        },
        "id": "zLOa83U0Izfy",
        "outputId": "684338ee-1845-4fec-d664-1e46074d0805"
      },
      "outputs": [],
      "source": [
        "for point in img_points:\n",
        "    color = (0,255,0) if np.array_equal(point,[124, 156.3]) else (0,0,255)\n",
        "    point = tuple(map(int, point))\n",
        "    cv.circle(maracana1, center=point, radius=2, color=color, thickness=-1)\n",
        "\n",
        "imshow(maracana1, \"Points chosen for calibration\")"
      ]
    },
    {
      "cell_type": "markdown",
      "metadata": {
        "id": "GEyKftA4KOFM"
      },
      "source": [
        "Corners are preferable for mitigating calibration errors, since they provide a clear sense of position on a world plane.\n",
        "\n",
        "Origin is highlighted in green."
      ]
    },
    {
      "cell_type": "markdown",
      "metadata": {
        "id": "b1HQJv9NKf6c"
      },
      "source": [
        "Now it's time to test our DLT function."
      ]
    },
    {
      "cell_type": "code",
      "execution_count": null,
      "metadata": {
        "id": "XKHMKJmeI32I"
      },
      "outputs": [],
      "source": [
        "from scripts.dlt import DLT"
      ]
    },
    {
      "cell_type": "code",
      "execution_count": null,
      "metadata": {
        "id": "czIqR9qCKjy5"
      },
      "outputs": [],
      "source": [
        "m = DLT(world_points, img_points)"
      ]
    },
    {
      "cell_type": "code",
      "execution_count": null,
      "metadata": {
        "id": "43B1c950MR6A"
      },
      "outputs": [],
      "source": [
        "def find_world_point(u, v, m):\n",
        "    # Extract camera matrix rows\n",
        "    h11, h12, h14 = m[0, 0], m[0, 1], m[0, 3]\n",
        "    h21, h22, h24 = m[1, 0], m[1, 1], m[1, 3]\n",
        "    h31, h32, h34 = m[2, 0], m[2, 1], m[2, 3]\n",
        "\n",
        "    # Formulate the equations\n",
        "    A = np.array([\n",
        "        [h11 - u * h31, h12 - u * h32],\n",
        "        [h21 - v * h31, h22 - v * h32]\n",
        "    ])\n",
        "    b = np.array([\n",
        "        u * h34 - h14,\n",
        "        v * h34 - h24\n",
        "    ])\n",
        "\n",
        "    # Solve for x_w and y_w\n",
        "    x_w, y_w = np.linalg.solve(A, b)\n",
        "    return x_w, y_w"
      ]
    },
    {
      "cell_type": "code",
      "execution_count": null,
      "metadata": {
        "colab": {
          "base_uri": "https://localhost:8080/"
        },
        "id": "FzwNVPY_gzI_",
        "outputId": "f50a06dc-3fb4-4a84-e24b-a3c4386d987a"
      },
      "outputs": [],
      "source": [
        "u = float(input(\"Please insert X image coordinate for the player's feet: \"))\n",
        "v = float(input(\"Please insert Y image coordinate for the player's feet: \"))\n",
        "z = float(input(\"Please insert the player's height in meters: \"))\n",
        "x_w, y_w = find_world_point(u,v,m)"
      ]
    },
    {
      "cell_type": "code",
      "execution_count": null,
      "metadata": {
        "colab": {
          "base_uri": "https://localhost:8080/",
          "height": 428
        },
        "id": "ZRyQK0RZhqzw",
        "outputId": "26d2992f-1297-44cd-b67c-d937e378e1cd"
      },
      "outputs": [],
      "source": [
        "players_feet = plot_world_point(x_w, y_w, 0, m)\n",
        "players_head = plot_world_point(x_w, y_w, z, m)\n",
        "# Reset image back to original state\n",
        "maracana1 = cv.imread(\"maracana1.jpg\")\n",
        "cv.line(maracana1, players_feet, players_head,color=(255, 0, 0), thickness=1)\n",
        "imshow(maracana1, \"Image with one player positioned.\")"
      ]
    },
    {
      "cell_type": "code",
      "execution_count": null,
      "metadata": {
        "colab": {
          "base_uri": "https://localhost:8080/"
        },
        "id": "qE9XRpy0i7p8",
        "outputId": "7c952e9e-bc27-4032-b560-8f557782016a"
      },
      "outputs": [],
      "source": [
        "u = float(input(\"Please insert X image coordinate for the goalkeeper's feet: \"))\n",
        "v = float(input(\"Please insert Y image coordinate for the goalkeeper's feet: \"))\n",
        "z = float(input(\"Please insert the goalkeeper's height in meters: \"))\n",
        "x_w, y_w = find_world_point(u,v,m)"
      ]
    },
    {
      "cell_type": "code",
      "execution_count": null,
      "metadata": {
        "colab": {
          "base_uri": "https://localhost:8080/",
          "height": 428
        },
        "id": "PLPZqakLjDIS",
        "outputId": "c4ef4ffd-7b9e-4bd3-f2fa-61155db14866"
      },
      "outputs": [],
      "source": [
        "players_feet = plot_world_point(x_w, y_w, 0, m)\n",
        "players_head = plot_world_point(x_w, y_w, z, m)\n",
        "cv.line(maracana1, players_feet, players_head,color=(255, 255, 0), thickness=1)\n",
        "imshow(maracana1, \"Image with goalkeeper positioned.\")"
      ]
    },
    {
      "cell_type": "markdown",
      "metadata": {
        "id": "iebeW4eAoGak"
      },
      "source": [
        "Considering that the goal's height is 2.44 meters, the goalkeeper represented by the plotted yellow line seems to have height fairly close to 1.8 meters as specified."
      ]
    },
    {
      "cell_type": "markdown",
      "metadata": {
        "id": "zcTAgt68iolV"
      },
      "source": [
        "## Let's dive into the second picture to try and plot an offside line"
      ]
    },
    {
      "cell_type": "code",
      "execution_count": null,
      "metadata": {
        "colab": {
          "base_uri": "https://localhost:8080/",
          "height": 356
        },
        "id": "XNXd6FNwi0aq",
        "outputId": "90f1ae28-0267-472c-9cb4-1e05db7a9bc0"
      },
      "outputs": [],
      "source": [
        "maracana2 = cv.imread('maracana2.jpg')\n",
        "imshow(maracana2, \"Original image\")"
      ]
    },
    {
      "cell_type": "code",
      "execution_count": null,
      "metadata": {
        "id": "3NsvqiCrissF"
      },
      "outputs": [],
      "source": [
        "# Define world points\n",
        "world_points = np.array([\n",
        "[-23.82, 16.5],\n",
        "[16.5,16.5],\n",
        "[5.5,5.5],\n",
        "[-12.82,5.5],\n",
        "[16.5,0],\n",
        "[5.5,0],\n",
        "[0,0],\n",
        "[-3.66,11]\n",
        "])\n",
        "\n",
        "# Define image points\n",
        "img_points = np.array([\n",
        "[266, 237],\n",
        "[268,61],\n",
        "[474,99],\n",
        "[509,177],\n",
        "[550,61],\n",
        "[575,99],\n",
        "[590,118],\n",
        "[377,134]\n",
        "])"
      ]
    },
    {
      "cell_type": "code",
      "execution_count": null,
      "metadata": {
        "colab": {
          "base_uri": "https://localhost:8080/",
          "height": 380
        },
        "id": "A45Bv7-wjjJA",
        "outputId": "fb22ceca-65f1-495a-b050-20713b0df334"
      },
      "outputs": [],
      "source": [
        "maracana2 = cv.imread('maracana2.jpg')\n",
        "for i, point in enumerate(img_points):\n",
        "    color = (255,0,0) if np.array_equal(point,[590, 118]) else (255,255,0)\n",
        "    point = tuple(map(int, point))\n",
        "    cv.circle(maracana2, center=point, radius=3, color=color, thickness=-1)\n",
        "imshow(maracana2, title=\"Points chosen for calibration\")"
      ]
    },
    {
      "cell_type": "markdown",
      "metadata": {
        "id": "UOSR_i-Fjzd2"
      },
      "source": [
        "Points chosen for calibration are plotted in yellow, origin is highlighted in red."
      ]
    },
    {
      "cell_type": "markdown",
      "metadata": {},
      "source": [
        "Now it's time to test our Homography function."
      ]
    },
    {
      "cell_type": "code",
      "execution_count": null,
      "metadata": {
        "id": "lpCvEH5Ij8gm"
      },
      "outputs": [],
      "source": [
        "def homography(world_points, img_points):\n",
        "    A = []\n",
        "    for i in range(len(world_points)):\n",
        "        x, y = world_points[i]\n",
        "        u, v = img_points[i]\n",
        "        A.append([x,y,1,0,0,0,-u*x,-u*y,-u])\n",
        "        A.append([0,0,0,x,y,1,-v*x,-v*y,-v])\n",
        "\n",
        "    A = np.asarray(A)\n",
        "\n",
        "    U, S, Vh = np.linalg.svd(A, full_matrices=False)\n",
        "    m = Vh[-1,:]/Vh[-1,-1]\n",
        "    return m.reshape(3,3)"
      ]
    },
    {
      "cell_type": "code",
      "execution_count": null,
      "metadata": {
        "id": "fChxOgdMkP3a"
      },
      "outputs": [],
      "source": [
        "h = homography(world_points, img_points)"
      ]
    },
    {
      "cell_type": "code",
      "execution_count": null,
      "metadata": {
        "id": "pjku-JcPkcI-"
      },
      "outputs": [],
      "source": [
        "def find_world_point_on_plane(u, v, m):\n",
        "    # Construct the image point in homogeneous coordinates\n",
        "    img_point = np.array([u, v, 1.0])\n",
        "\n",
        "    # Compute the world point in homogeneous coordinates\n",
        "    world_point_homogeneous = np.linalg.inv(m) @ img_point\n",
        "\n",
        "    # Normalize the world point\n",
        "    x_w = world_point_homogeneous[0] / world_point_homogeneous[2]\n",
        "    y_w = world_point_homogeneous[1] / world_point_homogeneous[2]\n",
        "    return x_w, y_w"
      ]
    },
    {
      "cell_type": "code",
      "execution_count": null,
      "metadata": {
        "colab": {
          "base_uri": "https://localhost:8080/"
        },
        "id": "o0IETXYDkjEo",
        "outputId": "8547ab9f-deec-40bb-db88-6080d30fde20"
      },
      "outputs": [],
      "source": [
        "u = float(input(\"Please insert X image coordinate of last defender's foot: \"))\n",
        "v = float(input(\"Please insert Y image coordinate of last defender's foot: \"))\n",
        "\n",
        "x_w2, y_w2 = find_world_point_on_plane(u,v,h)"
      ]
    },
    {
      "cell_type": "markdown",
      "metadata": {
        "id": "BJA2Uu9_k4hU"
      },
      "source": [
        "Now we must use the estimated field width so that it is possible to plot a line that's parallel to the end"
      ]
    },
    {
      "cell_type": "code",
      "execution_count": null,
      "metadata": {
        "colab": {
          "base_uri": "https://localhost:8080/",
          "height": 363
        },
        "id": "nm_CtHNCkyp-",
        "outputId": "eff80f9b-2be8-42c1-d586-87214bfe9962"
      },
      "outputs": [],
      "source": [
        "maracana2 = cv.imread('maracana2.jpg')\n",
        "corner = plot_plane_point_2D(30, y_w2, h)\n",
        "corner_2 = plot_plane_point_2D(-37.32, y_w2, h)"
      ]
    },
    {
      "cell_type": "code",
      "execution_count": null,
      "metadata": {
        "colab": {
          "base_uri": "https://localhost:8080/",
          "height": 356
        },
        "id": "EH2ShIubkzHS",
        "outputId": "bc31a65c-17da-438f-a8c4-84e12d19bdcf"
      },
      "outputs": [],
      "source": [
        "maracana2 = cv.imread('maracana2.jpg')\n",
        "cv.line(maracana2, corner, corner_2,color=(255, 0, 0), thickness=2)\n",
        "imshow(maracana2, \"Offside line plotted in red.\")"
      ]
    }
  ],
  "metadata": {
    "accelerator": "GPU",
    "colab": {
      "gpuType": "T4",
      "provenance": [],
      "toc_visible": true
    },
    "kernelspec": {
      "display_name": "Python 3",
      "name": "python3"
    },
    "language_info": {
      "codemirror_mode": {
        "name": "ipython",
        "version": 3
      },
      "file_extension": ".py",
      "mimetype": "text/x-python",
      "name": "python",
      "nbconvert_exporter": "python",
      "pygments_lexer": "ipython3",
      "version": "3.11.9"
    }
  },
  "nbformat": 4,
  "nbformat_minor": 0
}
